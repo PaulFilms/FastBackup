{
 "cells": [
  {
   "cell_type": "code",
   "execution_count": null,
   "metadata": {},
   "outputs": [
    {
     "name": "stdout",
     "output_type": "stream",
     "text": [
      "{'Nombre': 'app.py', 'Extensión': '.py', 'Tamaño (bytes)': 267, 'Fecha de creación': 'Mon Mar 10 09:52:01 2025', 'Última modificación': 'Mon Mar 10 09:52:01 2025'}\n",
      "None\n",
      "FILE(file_name='app.py', size=267, extension='.py', last_change='Mon Mar 10 09:52:01 2025')\n"
     ]
    }
   ],
   "source": [
    "path = r'C:\\Users\\pgonzalezpila\\Documents\\DEVELOP\\FastBackup\\app.py'\n",
    "\n",
    "import os\n",
    "import pathlib\n",
    "import time\n",
    "\n",
    "file = pathlib.Path(path)\n",
    "\n",
    "d = {\n",
    "        \"Nombre\": file.name,\n",
    "        \"Extensión\": file.suffix,  # Obtiene la extensión\n",
    "        \"Tamaño (bytes)\": file.stat().st_size,  # Tamaño en bytes\n",
    "        \"Fecha de creación\": time.ctime(file.stat().st_birthtime),  # Creación\n",
    "        \"Última modificación\": time.ctime(file.stat().st_mtime)  # Modificación\n",
    "    }\n",
    "\n",
    "print(d)\n",
    "\n",
    "\n",
    "from functions.application import FILE\n",
    "\n",
    "my_file = FILE(\n",
    "    file_name=file.name,\n",
    "    size=file.stat().st_size,\n",
    "    extension=file.suffix,\n",
    "    last_change=time.ctime(file.stat().st_birthtime)\n",
    ")\n",
    "\n",
    "print(my_file)"
   ]
  },
  {
   "cell_type": "code",
   "execution_count": 37,
   "metadata": {},
   "outputs": [
    {
     "name": "stdout",
     "output_type": "stream",
     "text": [
      "[HDD(label='', fstype='NTFS', removable=False, re_writable=True, letter='C:\\\\'), HDD(label='RS32BLCK', fstype='FAT32', removable=True, re_writable=True, letter='D:\\\\')]\n"
     ]
    }
   ],
   "source": [
    "import os, subprocess\n",
    "from win32api import GetVolumeInformation\n",
    "from dataclasses import dataclass\n",
    "\n",
    "from psutil import disk_partitions\n",
    "\n",
    "@dataclass\n",
    "class HDD:\n",
    "    label: str\n",
    "    fstype: str\n",
    "    removable: bool\n",
    "    re_writable: bool\n",
    "    letter: str = None\n",
    "\n",
    "def get_mounted_drives() -> list[HDD]:\n",
    "    # system = os.name\n",
    "    # if system == \"nt\": # Windows\n",
    "    #     drives = [os.path.splitdrive(p.mountpoint)[0] for p in disk_partitions(all=True)]\n",
    "    # else: # macOS/Linux\n",
    "    #     drives = [p.mountpoint for p in disk_partitions(all=True)]\n",
    "    hdd_list = list()\n",
    "    for partition in disk_partitions(all=True):\n",
    "        # print(partition)\n",
    "        # cmd = f'wmic logicaldisk where \"DeviceID=\\'{drive}\\'\" get VolumeName /value'\n",
    "        # result = subprocess.check_output(cmd, shell=True, text=True).strip()\n",
    "        # label = result.split('=')[-1].strip() if '=' in result else None\n",
    "        # print(label)\n",
    "        # cmd = f'wmic logicaldisk where \"DeviceID=\\'{drive}\\'\" get VolumeSerialNumber /value'\n",
    "        # result = subprocess.check_output(cmd, shell=True, text=True).strip()\n",
    "        # serial = result.split('=')[-1].strip() if '=' in result else None\n",
    "        # print(serial)\n",
    "        fromwin32 = GetVolumeInformation(partition.mountpoint) # (label: str, int, int, int, format: str = 'NTFS')\n",
    "        hdd_list.append(\n",
    "            HDD(\n",
    "                label=fromwin32[0],\n",
    "                fstype=partition.fstype,\n",
    "                removable='removable' in partition.opts,\n",
    "                re_writable='rw' in partition.opts,\n",
    "                letter=partition.mountpoint\n",
    "            )\n",
    "        )\n",
    "    return hdd_list\n",
    "\n",
    "drives = get_mounted_drives()\n",
    "print(drives)\n"
   ]
  },
  {
   "cell_type": "code",
   "execution_count": 2,
   "metadata": {},
   "outputs": [
    {
     "name": "stdout",
     "output_type": "stream",
     "text": [
      "['.Spotlight-V100', '.fseventsd', 'PIONEER', 'Contents', 'System Volume Information', 'MUSIC LIBRARY.txt']\n"
     ]
    }
   ],
   "source": [
    "import os\n",
    "\n",
    "d = os.listdir('E:')\n",
    "print(d)"
   ]
  }
 ],
 "metadata": {
  "kernelspec": {
   "display_name": ".venv",
   "language": "python",
   "name": "python3"
  },
  "language_info": {
   "codemirror_mode": {
    "name": "ipython",
    "version": 3
   },
   "file_extension": ".py",
   "mimetype": "text/x-python",
   "name": "python",
   "nbconvert_exporter": "python",
   "pygments_lexer": "ipython3",
   "version": "3.13.2"
  }
 },
 "nbformat": 4,
 "nbformat_minor": 2
}
